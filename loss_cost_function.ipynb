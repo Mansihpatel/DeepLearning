{
  "nbformat": 4,
  "nbformat_minor": 0,
  "metadata": {
    "colab": {
      "name": "loss/cost_function.ipynb",
      "provenance": [],
      "toc_visible": true,
      "authorship_tag": "ABX9TyOKdGury3ez9u69RUHtP780",
      "include_colab_link": true
    },
    "kernelspec": {
      "name": "python3",
      "display_name": "Python 3"
    },
    "language_info": {
      "name": "python"
    }
  },
  "cells": [
    {
      "cell_type": "markdown",
      "metadata": {
        "id": "view-in-github",
        "colab_type": "text"
      },
      "source": [
        "<a href=\"https://colab.research.google.com/github/Mansihpatel/DeepLearning/blob/main/loss_cost_function.ipynb\" target=\"_parent\"><img src=\"https://colab.research.google.com/assets/colab-badge.svg\" alt=\"Open In Colab\"/></a>"
      ]
    },
    {
      "cell_type": "markdown",
      "metadata": {
        "id": "EFq1pyIbL4DM"
      },
      "source": [
        "#Mean Absolute Error"
      ]
    },
    {
      "cell_type": "code",
      "metadata": {
        "id": "TIFLT7Fe889_"
      },
      "source": [
        "import numpy as np\n",
        "y_predicted = np.array([1,1,0,0,1])\n",
        "y_actual = np.array([0.30,0.7,1,0,0.5])\n",
        "\n"
      ],
      "execution_count": 6,
      "outputs": []
    },
    {
      "cell_type": "code",
      "metadata": {
        "id": "fVsB8sXM9p16"
      },
      "source": [
        "def mae(y_true,y_predicted):\n",
        "  total_error = 0\n",
        "  for yt,yp in zip(y_true,y_predicted):\n",
        "    print(yt,yp)\n",
        "    total_error += abs(yt-yp)\n",
        "  print(\"Total_error:\",total_error)\n",
        "  mae = total_error/len(y_true)\n",
        "  print(\"MAE :\",mae)\n",
        "  return mae \n"
      ],
      "execution_count": 9,
      "outputs": []
    },
    {
      "cell_type": "code",
      "metadata": {
        "colab": {
          "base_uri": "https://localhost:8080/"
        },
        "id": "4GupMnu2-DkF",
        "outputId": "ea85b341-19f7-45fd-cddc-e42121b01163"
      },
      "source": [
        "mae(y_actual,y_predicted)"
      ],
      "execution_count": 10,
      "outputs": [
        {
          "output_type": "stream",
          "name": "stdout",
          "text": [
            "0.3 1\n",
            "0.7 1\n",
            "1.0 0\n",
            "0.0 0\n",
            "0.5 1\n",
            "Total_error: 2.5\n",
            "MAE : 0.5\n"
          ]
        },
        {
          "output_type": "execute_result",
          "data": {
            "text/plain": [
              "0.5"
            ]
          },
          "metadata": {},
          "execution_count": 10
        }
      ]
    },
    {
      "cell_type": "code",
      "metadata": {
        "colab": {
          "base_uri": "https://localhost:8080/"
        },
        "id": "VOBFkBgT-K_c",
        "outputId": "d3f77e64-e256-49ea-c4cf-a49e4d87cd13"
      },
      "source": [
        "np.sqrt(mae(y_actual,y_predicted))\n",
        "  "
      ],
      "execution_count": 12,
      "outputs": [
        {
          "output_type": "stream",
          "name": "stdout",
          "text": [
            "0.3 1\n",
            "0.7 1\n",
            "1.0 0\n",
            "0.0 0\n",
            "0.5 1\n",
            "Total_error: 2.5\n",
            "MAE : 0.5\n"
          ]
        },
        {
          "output_type": "execute_result",
          "data": {
            "text/plain": [
              "0.7071067811865476"
            ]
          },
          "metadata": {},
          "execution_count": 12
        }
      ]
    },
    {
      "cell_type": "markdown",
      "metadata": {
        "id": "QGBgfnwcMIwn"
      },
      "source": [
        "#log loss function"
      ]
    },
    {
      "cell_type": "code",
      "metadata": {
        "id": "aPdV5Pfz_qdo"
      },
      "source": [
        "\n",
        "def log_loss(y_actual,y_predicted):\n",
        "  epsilon = 1e-15\n",
        "  y_pred_new = [max(i,epsilon) for i in y_predicted]\n",
        "  y_pred_new = [min(i,epsilon) for i in y_pred_new]\n",
        "  y_pred_new = np.array(y_pred_new)\n",
        "  return -np.mean(y_actual*np.log(y_pred_new)+(1-y_actual)*np.log(1-y_pred_new))\n"
      ],
      "execution_count": 15,
      "outputs": []
    },
    {
      "cell_type": "code",
      "metadata": {
        "colab": {
          "base_uri": "https://localhost:8080/"
        },
        "id": "GBg-aR8RLELp",
        "outputId": "3382cbbc-5a33-4b98-ae92-d52e3f547ff2"
      },
      "source": [
        "log_loss(y_actual,y_predicted)"
      ],
      "execution_count": 16,
      "outputs": [
        {
          "output_type": "execute_result",
          "data": {
            "text/plain": [
              "17.269388197455342"
            ]
          },
          "metadata": {},
          "execution_count": 16
        }
      ]
    },
    {
      "cell_type": "code",
      "metadata": {
        "id": "vdiTXR1fLLse"
      },
      "source": [
        ""
      ],
      "execution_count": null,
      "outputs": []
    }
  ]
}